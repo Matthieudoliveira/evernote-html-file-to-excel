{
 "cells": [
  {
   "cell_type": "markdown",
   "metadata": {
    "collapsed": true
   },
   "source": [
    "# Imports\n"
   ]
  },
  {
   "cell_type": "code",
   "execution_count": 145,
   "metadata": {
    "collapsed": false
   },
   "outputs": [],
   "source": [
    "from bs4 import BeautifulSoup\n",
    "from os import listdir\n",
    "from os.path import isfile, join\n",
    "\n",
    "import pandas as pd\n",
    "import urllib\n",
    "import re\n",
    "import glob\n",
    "import sys\n",
    "reload(sys)\n",
    "sys.setdefaultencoding('utf-8')\n"
   ]
  },
  {
   "cell_type": "markdown",
   "metadata": {},
   "source": [
    "# Functions"
   ]
  },
  {
   "cell_type": "code",
   "execution_count": 189,
   "metadata": {
    "collapsed": false
   },
   "outputs": [],
   "source": [
    "\n",
    "#Param soup object\n",
    "#@returns a non duplicate list of information from span tags\n",
    "def no_duplicates(s):\n",
    "    c = 0\n",
    "    with_duplicates = []\n",
    "    for x in s.find_all('span'):\n",
    "        with_duplicates.append(x.string)\n",
    "        c = c + 1\n",
    "    no_dups = []\n",
    "    i = 0\n",
    "    for item in with_duplicates:\n",
    "        if item in no_dups:\n",
    "            pass\n",
    "        else:\n",
    "            no_dups.append(item)\n",
    "    \n",
    "    return no_dups\n",
    "\n",
    "\n",
    "#gets mobile phone number\n",
    "#Param soup object\n",
    "#@returns mobile, work, home and fax number\n",
    "def get_mobile(s):\n",
    "    n = no_duplicates(s)\n",
    "    i = 0;\n",
    "    mobile ='None'\n",
    "    phone ='None'\n",
    "    work ='None'\n",
    "    home ='None'\n",
    "    fax = 'None'\n",
    "    for x in n:\n",
    "        if (n[i] == 'mobile' or n[i] == 'phone') or (n[i] == 'Mobile' or n[i] == 'Phone') :\n",
    "                if i + 1 >= len(n):\n",
    "                    mobile = \"None\"\n",
    "                else:\n",
    "                    mobile = n[i + 1]   \n",
    "                \n",
    "        if n[i] == 'fax' or n[i] == 'Fax':\n",
    "            fax = n[i + 1]\n",
    "        if n[i] == 'work' or n[i] == 'Work':\n",
    "            work = n[i + 1]\n",
    "        if n[i] == 'home':\n",
    "            home = n[i + 1]\n",
    "               \n",
    "        i = i + 1\n",
    "   \n",
    "    return mobile,work,home,fax\n",
    "\n",
    "#get info contents from span and div tags\n",
    "def span_ls():\n",
    "    return no_duplicates()\n",
    "\n",
    "\n",
    "#returns a stripped list of information in div tags\n",
    "def div_ls(s):\n",
    "    div_list = []\n",
    "\n",
    "    for x in s.find_all('div'):\n",
    "            div_list.append(x.string)\n",
    "            \n",
    "    div_list = [x for x in div_list if x != None]\n",
    "    return div_list\n",
    "\n",
    "\n",
    "#gets first name & last name and splits the string*****\n",
    "#Param soup object\n",
    "#returns first name and last name\n",
    "def get_name(s):\n",
    "    t = 0\n",
    "    mylist= []\n",
    "    contact_list = []\n",
    "\n",
    "    for x in s.find_all('span'):\n",
    "        mylist.append(x.string)\n",
    "        t = t + 1\n",
    "    clean = mylist[3]\n",
    "    contact_list = re.split('\\s+', clean)\n",
    "    if len(contact_list) == 1:\n",
    "        return contact_list[0]\n",
    "    \n",
    "        \n",
    "    return contact_list[0], contact_list[1]\n",
    "\n",
    "\n",
    "\n",
    "#param soup obejct\n",
    "#@returns email\n",
    "def get_email(s):\n",
    "    e = 0\n",
    "    ls = div_ls(s)\n",
    "    em =[]\n",
    "    for emails in ls:\n",
    "\n",
    "        emails = str(emails)\n",
    "        if '@' in emails:\n",
    "            email = ls.__getitem__(e)\n",
    "            #ls.remove(email)\n",
    "            em.append(email + ' ') \n",
    "            return email\n",
    "        e = e + 1    \n",
    "    \n",
    "\n",
    "#param soup obejct\n",
    "#@returns address\n",
    "def get_address(s):\n",
    "    i = 0\n",
    "    ls = div_ls(s)\n",
    "    for address in ls:\n",
    "        address = str(address)\n",
    "        address = address.rstrip('\\n')\n",
    "        if len(address) > 40:\n",
    "            return address\n",
    "        i = i + 1\n",
    "        \n",
    "        \n",
    "#param soup obejct\n",
    "#@returns wesbite\n",
    "def get_website(s):\n",
    "    e = 0\n",
    "    ls = div_ls(s)\n",
    "    for x in ls:\n",
    "        if x is 'None':\n",
    "            pass\n",
    "    \n",
    "        elif 'www' in x:\n",
    "            website = ls.__getitem__(e).strip()\n",
    "            return website\n",
    "        \n",
    "        e = e + 1\n"
   ]
  },
  {
   "cell_type": "markdown",
   "metadata": {
    "collapsed": false
   },
   "source": [
    "# List of all file names from directory"
   ]
  },
  {
   "cell_type": "code",
   "execution_count": 198,
   "metadata": {
    "collapsed": false
   },
   "outputs": [],
   "source": [
    "#This section will get all file names to run through code\n",
    "\n",
    "main_path = \"\"\n",
    "\n",
    "#this puts all file names in list\n",
    "#@returns list of all files names\n",
    "def get_file_name_list():\n",
    "    ls = []\n",
    "    os.chdir(main_path)\n",
    "    for file in glob.glob(\"*.html\"):\n",
    "        ls.append(file)\n",
    "    return ls\n"
   ]
  },
  {
   "cell_type": "markdown",
   "metadata": {
    "collapsed": false
   },
   "source": [
    "# Builds Dataframe"
   ]
  },
  {
   "cell_type": "code",
   "execution_count": 193,
   "metadata": {
    "collapsed": false
   },
   "outputs": [],
   "source": [
    "\n",
    "#Param soup object\n",
    "#@returns final dataframe\n",
    "def build_data_frame(s):\n",
    "    \n",
    "    columns = ['First','Last', 'Email','Mobile','Work','Home','Fax','Website','Address']\n",
    "    index = [0]\n",
    "    f = pd.DataFrame(index=index, columns=columns)\n",
    "    f = f.fillna('None') \n",
    "    f['First'] = get_name(s)[0]\n",
    "    f['Last'] = get_name(s)[1]\n",
    "    f['Email'] = get_email(s)\n",
    "    f['Mobile'] = get_mobile(s)[0]\n",
    "    f['Work'] = get_mobile(s)[1]\n",
    "    f['Home'] = get_mobile(s)[2]\n",
    "    f['Fax'] = get_mobile(s)[3]\n",
    "    f['Website'] = get_website(s)\n",
    "    f['Address'] = get_address(s)    \n",
    "    \n",
    "    return f"
   ]
  },
  {
   "cell_type": "markdown",
   "metadata": {},
   "source": [
    "# Runs Program"
   ]
  },
  {
   "cell_type": "code",
   "execution_count": 194,
   "metadata": {
    "collapsed": false
   },
   "outputs": [],
   "source": [
    "path = ''\n",
    "\n",
    "# runs program\n",
    "def run():\n",
    "    file_list = get_file_name_list()\n",
    "    i = 0\n",
    "    df = pd.DataFrame()\n",
    "    for x in file_list:\n",
    "        if len(df) is 0:\n",
    "            main_path = path +file_list[i]\n",
    "            soup = BeautifulSoup(open(main_path),\"html5lib\")\n",
    "            df = build_data_frame(soup)\n",
    "            i = i + 1\n",
    "        else:\n",
    "            main_path = path +file_list[i]\n",
    "            soup = BeautifulSoup(open(main_path),\"html5lib\")\n",
    "            df1 = build_data_frame(soup)\n",
    "            df = pd.concat([df, df1], axis=0)\n",
    "            i = i + 1\n",
    "        \n",
    "    return df\n",
    "    \n",
    "  \n"
   ]
  },
  {
   "cell_type": "markdown",
   "metadata": {
    "collapsed": true
   },
   "source": [
    "# Convert Dataframe to Excel Sheet"
   ]
  },
  {
   "cell_type": "code",
   "execution_count": 201,
   "metadata": {
    "collapsed": false
   },
   "outputs": [],
   "source": [
    "# DF TO EXCEL\n",
    "from pandas import ExcelWriter\n",
    "\n",
    "writer = ExcelWriter('evernote_contact_list.xlsx')\n",
    "final.to_excel(writer, startcol = 0, startrow = 9)\n",
    "\n",
    "worksheet = writer.sheets['Sheet1']\n",
    "worksheet.write_string(0, 0, 'evernote contact list')\n",
    "\n",
    "writer.save()"
   ]
  },
  {
   "cell_type": "code",
   "execution_count": null,
   "metadata": {
    "collapsed": true
   },
   "outputs": [],
   "source": []
  },
  {
   "cell_type": "code",
   "execution_count": null,
   "metadata": {
    "collapsed": true
   },
   "outputs": [],
   "source": []
  }
 ],
 "metadata": {
  "kernelspec": {
   "display_name": "Python 2",
   "language": "python",
   "name": "python2"
  },
  "language_info": {
   "codemirror_mode": {
    "name": "ipython",
    "version": 2
   },
   "file_extension": ".py",
   "mimetype": "text/x-python",
   "name": "python",
   "nbconvert_exporter": "python",
   "pygments_lexer": "ipython2",
   "version": "2.7.11"
  }
 },
 "nbformat": 4,
 "nbformat_minor": 0
}
